{
 "cells": [
  {
   "cell_type": "code",
   "execution_count": 44,
   "metadata": {},
   "outputs": [],
   "source": [
    "Title = \"the road not taken\"\n",
    "Author = \"robert frost\"\n",
    "String = \"Two roads diverged in a yellow wood,\"\n",
    "dic = {1:'To where it bent in the undergrowth;', 2:'Then took the other, as just as fair,',3:'Becuase it was grassy and wanted wear;', 4:'Though as for that the passing there', 5:'Had worn them really about the same,'}\n",
    "list_prep = ['In','for','on','to']\n",
    "list_verb = ['had trodden','kept','knowing','leads']"
   ]
  },
  {
   "cell_type": "code",
   "execution_count": 45,
   "metadata": {},
   "outputs": [],
   "source": [
    "def andphrase (verb = 'unknown', noun = 'unknown', iverb = 'unknown', iadj = 'unknown', other = 'unknown'):\n",
    "    \n",
    "    if noun == 'I':\n",
    "        print(f'And {verb} {noun} {iverb} {iadj}')\n",
    "    else:\n",
    "        print(f'And {verb} {noun}{other}')"
   ]
  },
  {
   "cell_type": "code",
   "execution_count": 59,
   "metadata": {},
   "outputs": [],
   "source": [
    "def iphrase (verb = 'unknown', adj = 'unknown', other = 'unknown'):\n",
    "    print(f'I {verb}{adj} {other}')"
   ]
  },
  {
   "cell_type": "code",
   "execution_count": 64,
   "metadata": {},
   "outputs": [
    {
     "name": "stdout",
     "output_type": "stream",
     "text": [
      "The Road Not Taken\n",
      "BY ROBERT FROST\n",
      "\n",
      "\n",
      "Two roads diverged in a yellow wood,\n",
      "And sorry I could not travel both\n",
      "And be one traveler, long I stood\n",
      "And looked down one as far as I could\n",
      "To where it bent in the undergrowth;\n",
      "\n",
      "\n",
      "Then took the other, as just as fair,\n",
      "And having perhaps the better claim,\n",
      "Becuase it was grassy and wanted wear;\n",
      "Though as for that the passing there\n",
      "Had worn them really about the same,\n",
      "\n",
      "\n",
      "And both that morning equally lay\n",
      "In leaves no step had trodden black.\n",
      "Oh, I kept the first for another day!\n",
      "Yet knowing how way leads on to way,\n",
      "I doubted if I should ever come back. \n",
      "\n",
      "\n",
      "I shall be tellingthis with a sigh\n",
      "Somewhere ages and ages hence:\n",
      "Two roads diverged in a wood, and I\n",
      "I took the one less travel by,\n",
      "And that has made all the difference.\n"
     ]
    }
   ],
   "source": [
    "print(Title.title())\n",
    "print('BY ' + Author.upper())\n",
    "print('\\n')\n",
    "print(String)\n",
    "andphrase('sorry','I','could not travel','both')\n",
    "andphrase('be','one traveler','','',', long I stood')\n",
    "andphrase('looked down','one','','',' as far as I could')\n",
    "print(dic[1])\n",
    "print('\\n')\n",
    "print(dic[2])\n",
    "andphrase('having','','','','perhaps the better claim,')\n",
    "print(dic[3])\n",
    "print(dic[4])\n",
    "print(dic[5])\n",
    "print('\\n')\n",
    "andphrase('both that','','','','morning equally lay')\n",
    "print(f'{list_prep[0]} leaves no step {list_verb[0]} black.')\n",
    "print(f'Oh, I {list_verb[1]} the first {list_prep[1]} another day!')\n",
    "print(f'Yet {list_verb[2]} how way {list_verb[3]} {list_prep[2]} {list_prep[3]} way,')\n",
    "iphrase('doubted',' if I should ever come back.','')\n",
    "print('\\n')\n",
    "iphrase('shall be telling','this with','a sigh')\n",
    "print('Somewhere ages and ages hence:')\n",
    "print(String.replace(' yellow','')+' and I')\n",
    "iphrase('took','','the one less travel by,')\n",
    "andphrase('that has made','all the difference','','','.')\n",
    "\n",
    "\n"
   ]
  },
  {
   "cell_type": "code",
   "execution_count": null,
   "metadata": {},
   "outputs": [],
   "source": []
  }
 ],
 "metadata": {
  "kernelspec": {
   "display_name": "Python 3",
   "language": "python",
   "name": "python3"
  },
  "language_info": {
   "codemirror_mode": {
    "name": "ipython",
    "version": 3
   },
   "file_extension": ".py",
   "mimetype": "text/x-python",
   "name": "python",
   "nbconvert_exporter": "python",
   "pygments_lexer": "ipython3",
   "version": "3.8.5"
  }
 },
 "nbformat": 4,
 "nbformat_minor": 4
}
