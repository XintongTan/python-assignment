{
 "cells": [
  {
   "cell_type": "code",
   "execution_count": 2,
   "metadata": {},
   "outputs": [],
   "source": [
    "Title = \"The Road Not Taken\"\n",
    "Author = \"robert frost\"\n",
    "a = \"And\"\n",
    "b = \" \"\n",
    "c = \"the\"\n",
    "d = \"as far as\"\n",
    "list_verbs = ['diverged','sorry', 'travel','stood','looked','bent','took','wanted','worn','lay','trodden','kept','leads','doubted']\n",
    "list_numbers = ['one','Two']"
   ]
  },
  {
   "cell_type": "code",
   "execution_count": 3,
   "metadata": {},
   "outputs": [
    {
     "name": "stdout",
     "output_type": "stream",
     "text": [
      "The Road Not Taken\n",
      "BY ROBERT FROST\n",
      "\n",
      "\n",
      "Two roads diverged in a yellow wood,\n",
      "And sorry I could not travel both \n",
      "And be one traveler, long I stood\n",
      "And looked down one as far as I could\n",
      "To where it bent in the undergrowth;\n",
      "\n",
      "Then took the other, as just as fair,\n",
      "And having perhaps the better claim,\n",
      "Because it was grassy and wanted wear;\n",
      "Though as for that the passing there\n",
      "Had worn them really about the same,\n",
      "\n",
      "And both that morning equally lay\n",
      "In leaves no step had trodden black.\n",
      "Oh, I kept the first for another day!\n",
      "Yet knowing how way leads on to way,\n",
      "I doubted if I should ever come back.\n",
      "\n",
      "I shall be telling this with a sigh\n",
      "Somewhere ages and ages hence:\n",
      "Two roads diverged in a wood, and I\n",
      "I took the one less travel by,\n",
      "And that has made all the difference.\n",
      "\n"
     ]
    }
   ],
   "source": [
    "print(Title)\n",
    "print('BY ' + Author.upper())\n",
    "print('\\n')\n",
    "print(list_numbers[1] + ' roads ' + list_verbs[0] + ' in a yellow wood,')\n",
    "print(a + b + list_verbs[1] + ' I could not ' + list_verbs[2] + ' both ')\n",
    "print(a + ' be ' + list_numbers[0] + ' traveler, long I ' + list_verbs[3])\n",
    "print(a + b + list_verbs[4] + ' down ' + list_numbers[0] + f' {d} I could')\n",
    "print('To where it ' + list_verbs[5] + ' in the undergrowth;')\n",
    "print(f'''\n",
    "Then {list_verbs[6]} the other, as just as fair,\n",
    "'''\n",
    "     + a + ' having perhaps the better claim,')\n",
    "print(f'Because it was grassy and{b}{list_verbs[7]} wear;')\n",
    "print(f'''Though as for that {c} passing there\n",
    "Had {list_verbs[8]} them really about {c} same,\n",
    "''')\n",
    "print(f'{a} both that morning equally {list_verbs[9]}')\n",
    "print(f'In leaves no step had {list_verbs[10]} black.')\n",
    "print(f'''Oh, I {list_verbs[11]} {c} first for another day!\n",
    "Yet knowing how way {list_verbs[12]} on to way,\n",
    "I {list_verbs[13]} if I should ever come back.\n",
    "\n",
    "I shall be telling this with a sigh\n",
    "Somewhere ages {a.lower()} ages hence:\n",
    "{list_numbers[1]} roads {list_verbs[0]} in a wood, {a.lower()} I\n",
    "I {list_verbs[6]+ b + c} one less {list_verbs[2]} by,\n",
    "{a} that has made all the difference.\n",
    "''')\n"
   ]
  },
  {
   "cell_type": "code",
   "execution_count": null,
   "metadata": {},
   "outputs": [],
   "source": []
  }
 ],
 "metadata": {
  "kernelspec": {
   "display_name": "Python 3",
   "language": "python",
   "name": "python3"
  },
  "language_info": {
   "codemirror_mode": {
    "name": "ipython",
    "version": 3
   },
   "file_extension": ".py",
   "mimetype": "text/x-python",
   "name": "python",
   "nbconvert_exporter": "python",
   "pygments_lexer": "ipython3",
   "version": "3.8.5"
  }
 },
 "nbformat": 4,
 "nbformat_minor": 4
}
