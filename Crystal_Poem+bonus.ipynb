{
 "cells": [
  {
   "cell_type": "code",
   "execution_count": 56,
   "metadata": {},
   "outputs": [],
   "source": [
    "String = \"Two roads diverged in a yellow wood,\"\n",
    "dic = {1:'To where it bent in the undergrowth;', 2:'Then took the other, as just as fair,',3:'Becuase it was grassy and wanted wear;', 4:'Though as for that the passing there', 5:'Had worn them really about the same,'}\n",
    "list_prep = ['In','for','on','to']\n",
    "list_verb = ['had trodden','kept','knowing','leads']"
   ]
  },
  {
   "cell_type": "code",
   "execution_count": 57,
   "metadata": {},
   "outputs": [
    {
     "name": "stdout",
     "output_type": "stream",
     "text": [
      "{'Title': 'The Road Not Taken', 'Author': 'BY ROBERT FROST', 1: 'To where it bent in the undergrowth;', 2: 'Then took the other, as just as fair,', 3: 'Becuase it was grassy and wanted wear;', 4: 'Though as for that the passing there', 5: 'Had worn them really about the same,'}\n"
     ]
    }
   ],
   "source": [
    "dict_poem = {'Title' : 'The Road Not Taken',\n",
    "             'Author' : 'BY ROBERT FROST'\n",
    "    }\n",
    "\n",
    "dict_poem.update(dic)\n",
    "print (dict_poem)"
   ]
  },
  {
   "cell_type": "code",
   "execution_count": 58,
   "metadata": {},
   "outputs": [],
   "source": [
    "def andphrase (verb = 'unknown', noun = 'unknown', iverb = 'unknown', iadj = 'unknown', other = 'unknown'):\n",
    "    \n",
    "    if noun == 'I':\n",
    "        print(f'And {verb} {noun} {iverb} {iadj}')\n",
    "    else:\n",
    "        print(f'And {verb} {noun}{other}')"
   ]
  },
  {
   "cell_type": "code",
   "execution_count": 59,
   "metadata": {},
   "outputs": [],
   "source": [
    "def iphrase (verb = 'unknown', adj = 'unknown', other = 'unknown'):\n",
    "    print(f'I {verb}{adj} {other}')"
   ]
  },
  {
   "cell_type": "code",
   "execution_count": 60,
   "metadata": {},
   "outputs": [
    {
     "name": "stdout",
     "output_type": "stream",
     "text": [
      "The Road Not Taken\n",
      "BY ROBERT FROST\n",
      "\n",
      "\n",
      "Two roads diverged in a yellow wood,\n",
      "And sorry I could not travel both\n",
      "And be one traveler, long I stood\n",
      "And looked down one as far as I could\n",
      "To where it bent in the undergrowth;\n",
      "\n",
      "\n",
      "Then took the other, as just as fair,\n",
      "And having perhaps the better claim,\n",
      "Becuase it was grassy and wanted wear;\n",
      "Though as for that the passing there\n",
      "Had worn them really about the same,\n",
      "\n",
      "\n",
      "And both that morning equally lay\n",
      "In leaves no step had trodden black.\n",
      "Oh, I kept the first for another day!\n",
      "Yet knowing how way leads on to way,\n",
      "I doubted if I should ever come back. \n",
      "\n",
      "\n",
      "I shall be tellingthis with a sigh\n",
      "Somewhere ages and ages hence:\n",
      "Two roads diverged in a wood, and I\n",
      "I took the one less travel by,\n",
      "And that has made all the difference.\n"
     ]
    }
   ],
   "source": [
    "print(dict_poem['Title'])\n",
    "print(dict_poem['Author'])\n",
    "print('\\n')\n",
    "print(String)\n",
    "andphrase('sorry','I','could not travel','both')\n",
    "andphrase('be','one traveler','','',', long I stood')\n",
    "andphrase('looked down','one','','',' as far as I could')\n",
    "print(dict_poem[1])\n",
    "print('\\n')\n",
    "print(dict_poem[2])\n",
    "andphrase('having','','','','perhaps the better claim,')\n",
    "print(dict_poem[3])\n",
    "print(dict_poem[4])\n",
    "print(dict_poem[5])\n",
    "print('\\n')\n",
    "andphrase('both that','','','','morning equally lay')\n",
    "print(f'{list_prep[0]} leaves no step {list_verb[0]} black.')\n",
    "print(f'Oh, I {list_verb[1]} the first {list_prep[1]} another day!')\n",
    "print(f'Yet {list_verb[2]} how way {list_verb[3]} {list_prep[2]} {list_prep[3]} way,')\n",
    "iphrase('doubted',' if I should ever come back.','')\n",
    "print('\\n')\n",
    "iphrase('shall be telling','this with','a sigh')\n",
    "print('Somewhere ages and ages hence:')\n",
    "print(String.replace(' yellow','')+' and I')\n",
    "iphrase('took','','the one less travel by,')\n",
    "andphrase('that has made','all the difference','','','.')\n",
    "\n",
    "\n"
   ]
  },
  {
   "cell_type": "code",
   "execution_count": 61,
   "metadata": {},
   "outputs": [
    {
     "name": "stdout",
     "output_type": "stream",
     "text": [
      "[1, 2, 3, 'real?', 'fake']\n",
      "[1, 2, 3, 'real?', 'fake', 'real?', 'fake']\n",
      "[1, 2, 3, 'real?', 'fake', 'real?', 'fake', 'real?', 'fake']\n",
      "[1, 2, 3, 'real?', 'fake', 'real?', 'fake', 'real?', 'fake', 'real?', 'fake']\n",
      "[1, 2, 3, 'real?', 'fake', 'real?', 'fake', 'real?', 'fake', 'real?', 'fake', 'fake', 'real?']\n",
      "[1, 2, 3, 'real?', 'fake', 'real?', 'fake', 'real?', 'fake', 'real?', 'fake', 'fake', 'fake', 'real?', 'real?']\n",
      "[1, 2, 3, 'real?', 'fake', 'real?', 'fake', 'real?', 'fake', 'real?', 'fake', 'fake', 'fake', 'fake', 'real?', 'real?', 'real?']\n",
      "[1, 2, 3, 'real?', 'fake', 'real?', 'fake', 'real?', 'fake', 'real?', 'fake', 'fake', 'fake', 'fake', 'fake', 'real?', 'real?', 'real?', 'real?']\n",
      "[1, 2, 3, 'real?', 'fake', 'real?', 'fake', 'real?', 'fake', 'real?', 'fake', 'fake', 'fake', 'fake', 'fake', 'fake', 'real?', 'real?', 'real?', 'real?', 'real?']\n",
      "[1, 2, 3, 'real?', 'fake', 'real?', 'fake', 'real?', 'fake', 'real?', 'fake', 'fake', 'fake', 'fake', 'fake', 'fake', 'fake', 'real?', 'real?', 'real?', 'real?', 'real?', 'real?']\n",
      "[1, 2, 3, 'real?', 'fake', 'real?', 'fake', 'real?', 'fake', 'real?', 'fake', 'fake', 'fake', 'fake', 'fake', 'fake', 'fake', 'fake', 'real?', 'real?', 'real?', 'real?', 'real?', 'real?', 'real?']\n",
      "[1, 2, 3, 'real?', 'fake', 'real?', 'fake', 'real?', 'fake', 'real?', 'fake', 'fake', 'fake', 'fake', 'fake', 'fake', 'fake', 'fake', 'fake', 'real?', 'real?', 'real?', 'real?', 'real?', 'real?', 'real?', 'real?']\n",
      "[1, 2, 3, 'real?', 'fake', 'real?', 'fake', 'real?', 'fake', 'real?', 'fake', 'fake', 'fake', 'fake', 'fake', 'fake', 'fake', 'fake', 'fake', 'fake', 'real?', 'real?', 'real?', 'real?', 'real?', 'real?', 'real?', 'real?', 'real?']\n",
      "[1, 2, 3, 'real?', 'fake', 'real?', 'fake', 'real?', 'fake', 'real?', 'fake', 'fake', 'fake', 'fake', 'fake', 'fake', 'fake', 'fake', 'fake', 'fake', 'fake', 'real?', 'real?', 'real?', 'real?', 'real?', 'real?', 'real?', 'real?', 'real?', 'real?']\n",
      "[1, 2, 3, 'real?', 'fake', 'real?', 'fake', 'real?', 'fake', 'real?', 'fake', 'fake', 'fake', 'fake', 'fake', 'fake', 'fake', 'fake', 'fake', 'fake', 'fake', 'fake', 'real?', 'real?', 'real?', 'real?', 'real?', 'real?', 'real?', 'real?', 'real?', 'real?', 'real?']\n",
      "[1, 2, 3, 'real?', 'fake', 'real?', 'fake', 'real?', 'fake', 'real?', 'fake', 'fake', 'fake', 'fake', 'fake', 'fake', 'fake', 'fake', 'fake', 'fake', 'fake', 'fake', 'fake', 'real?', 'real?', 'real?', 'real?', 'real?', 'real?', 'real?', 'real?', 'real?', 'real?', 'real?', 'real?']\n",
      "[1, 2, 3, 'real?', 'fake', 'real?', 'fake', 'real?', 'fake', 'real?', 'fake', 'fake', 'fake', 'fake', 'fake', 'fake', 'fake', 'fake', 'fake', 'fake', 'fake', 'fake', 'fake', 'fake', 'real?', 'real?', 'real?', 'real?', 'real?', 'real?', 'real?', 'real?', 'real?', 'real?', 'real?', 'real?', 'real?']\n",
      "[1, 2, 3, 'real?', 'fake', 'real?', 'fake', 'real?', 'fake', 'real?', 'fake', 'fake', 'fake', 'fake', 'fake', 'fake', 'fake', 'fake', 'fake', 'fake', 'fake', 'fake', 'fake', 'fake', 'fake', 'real?', 'real?', 'real?', 'real?', 'real?', 'real?', 'real?', 'real?', 'real?', 'real?', 'real?', 'real?', 'real?', 'real?']\n",
      "[1, 2, 3, 'real?', 'fake', 'real?', 'fake', 'real?', 'fake', 'real?', 'fake', 'fake', 'fake', 'fake', 'fake', 'fake', 'fake', 'fake', 'fake', 'fake', 'fake', 'fake', 'fake', 'fake', 'fake', 'fake', 'real?', 'real?', 'real?', 'real?', 'real?', 'real?', 'real?', 'real?', 'real?', 'real?', 'real?', 'real?', 'real?', 'real?', 'real?']\n",
      "[1, 2, 3, 'real?', 'fake', 'real?', 'fake', 'real?', 'fake', 'real?', 'fake', 'fake', 'fake', 'fake', 'fake', 'fake', 'fake', 'fake', 'fake', 'fake', 'fake', 'fake', 'fake', 'fake', 'fake', 'fake', 'fake', 'real?', 'real?', 'real?', 'real?', 'real?', 'real?', 'real?', 'real?', 'real?', 'real?', 'real?', 'real?', 'real?', 'real?', 'real?', 'real?']\n",
      "[1, 2, 3, 'real?', 'fake', 'real?', 'fake', 'real?', 'fake', 'real?', 'fake', 'fake', 'fake', 'fake', 'fake', 'fake', 'fake', 'fake', 'fake', 'fake', 'fake', 'fake', 'fake', 'fake', 'fake', 'fake', 'fake', 'fake', 'real?', 'real?', 'real?', 'real?', 'real?', 'real?', 'real?', 'real?', 'real?', 'real?', 'real?', 'real?', 'real?', 'real?', 'real?', 'real?', 'real?']\n",
      "[1, 2, 3, 'real?', 'fake', 'real?', 'fake', 'real?', 'fake', 'real?', 'fake', 'fake', 'fake', 'fake', 'fake', 'fake', 'fake', 'fake', 'fake', 'fake', 'fake', 'fake', 'fake', 'fake', 'fake', 'fake', 'fake', 'fake', 'fake', 'real?', 'real?', 'real?', 'real?', 'real?', 'real?', 'real?', 'real?', 'real?', 'real?', 'real?', 'real?', 'real?', 'real?', 'real?', 'real?', 'real?', 'real?']\n",
      "[1, 2, 3, 'real?', 'fake', 'real?', 'fake', 'real?', 'fake', 'real?', 'fake', 'fake', 'fake', 'fake', 'fake', 'fake', 'fake', 'fake', 'fake', 'fake', 'fake', 'fake', 'fake', 'fake', 'fake', 'fake', 'fake', 'fake', 'fake', 'fake', 'real?', 'real?', 'real?', 'real?', 'real?', 'real?', 'real?', 'real?', 'real?', 'real?', 'real?', 'real?', 'real?', 'real?', 'real?', 'real?', 'real?', 'real?', 'real?']\n",
      "[1, 2, 3, 'real?', 'fake', 'real?', 'fake', 'real?', 'fake', 'real?', 'fake', 'fake', 'fake', 'fake', 'fake', 'fake', 'fake', 'fake', 'fake', 'fake', 'fake', 'fake', 'fake', 'fake', 'fake', 'fake', 'fake', 'fake', 'fake', 'fake', 'fake', 'real?', 'real?', 'real?', 'real?', 'real?', 'real?', 'real?', 'real?', 'real?', 'real?', 'real?', 'real?', 'real?', 'real?', 'real?', 'real?', 'real?', 'real?', 'real?', 'real?']\n",
      "[1, 2, 3, 'real?', 'fake', 'real?', 'fake', 'real?', 'fake', 'real?', 'fake', 'fake', 'fake', 'fake', 'fake', 'fake', 'fake', 'fake', 'fake', 'fake', 'fake', 'fake', 'fake', 'fake', 'fake', 'fake', 'fake', 'fake', 'fake', 'fake', 'fake', 'fake', 'real?', 'real?', 'real?', 'real?', 'real?', 'real?', 'real?', 'real?', 'real?', 'real?', 'real?', 'real?', 'real?', 'real?', 'real?', 'real?', 'real?', 'real?', 'real?', 'real?', 'real?']\n",
      "[1, 2, 3, 'real?', 'fake', 'real?', 'fake', 'real?', 'fake', 'real?', 'fake', 'fake', 'fake', 'fake', 'fake', 'fake', 'fake', 'fake', 'fake', 'fake', 'fake', 'fake', 'fake', 'fake', 'fake', 'fake', 'fake', 'fake', 'fake', 'fake', 'fake', 'fake', 'fake', 'real?', 'real?', 'real?', 'real?', 'real?', 'real?', 'real?', 'real?', 'real?', 'real?', 'real?', 'real?', 'real?', 'real?', 'real?', 'real?', 'real?', 'real?', 'real?', 'real?', 'real?', 'real?']\n",
      "[1, 2, 3, 'real?', 'fake', 'real?', 'fake', 'real?', 'fake', 'real?', 'fake', 'fake', 'fake', 'fake', 'fake', 'fake', 'fake', 'fake', 'fake', 'fake', 'fake', 'fake', 'fake', 'fake', 'fake', 'fake', 'fake', 'fake', 'fake', 'fake', 'fake', 'fake', 'fake', 'fake', 'real?', 'real?', 'real?', 'real?', 'real?', 'real?', 'real?', 'real?', 'real?', 'real?', 'real?', 'real?', 'real?', 'real?', 'real?', 'real?', 'real?', 'real?', 'real?', 'real?', 'real?', 'real?', 'real?']\n",
      "[1, 2, 3, 'real?', 'fake', 'real?', 'fake', 'real?', 'fake', 'real?', 'fake', 'fake', 'fake', 'fake', 'fake', 'fake', 'fake', 'fake', 'fake', 'fake', 'fake', 'fake', 'fake', 'fake', 'fake', 'fake', 'fake', 'fake', 'fake', 'fake', 'fake', 'fake', 'fake', 'fake', 'fake', 'real?', 'real?', 'real?', 'real?', 'real?', 'real?', 'real?', 'real?', 'real?', 'real?', 'real?', 'real?', 'real?', 'real?', 'real?', 'real?', 'real?', 'real?', 'real?', 'real?', 'real?', 'real?', 'real?', 'real?']\n",
      "[1, 2, 3, 'real?', 'fake', 'real?', 'fake', 'real?', 'fake', 'real?', 'fake', 'fake', 'fake', 'fake', 'fake', 'fake', 'fake', 'fake', 'fake', 'fake', 'fake', 'fake', 'fake', 'fake', 'fake', 'fake', 'fake', 'fake', 'fake', 'fake', 'fake', 'fake', 'fake', 'fake', 'fake', 'fake', 'real?', 'real?', 'real?', 'real?', 'real?', 'real?', 'real?', 'real?', 'real?', 'real?', 'real?', 'real?', 'real?', 'real?', 'real?', 'real?', 'real?', 'real?', 'real?', 'real?', 'real?', 'real?', 'real?', 'real?', 'real?']\n",
      "[1, 2, 3, 'real?', 'fake', 'real?', 'fake', 'real?', 'fake', 'real?', 'fake', 'fake', 'fake', 'fake', 'fake', 'fake', 'fake', 'fake', 'fake', 'fake', 'fake', 'fake', 'fake', 'fake', 'fake', 'fake', 'fake', 'fake', 'fake', 'fake', 'fake', 'fake', 'fake', 'fake', 'fake', 'fake', 'fake', 'real?', 'real?', 'real?', 'real?', 'real?', 'real?', 'real?', 'real?', 'real?', 'real?', 'real?', 'real?', 'real?', 'real?', 'real?', 'real?', 'real?', 'real?', 'real?', 'real?', 'real?', 'real?', 'real?', 'real?', 'real?', 'real?']\n",
      "[1, 2, 3, 'real?', 'fake', 'real?', 'fake', 'real?', 'fake', 'real?', 'fake', 'fake', 'fake', 'fake', 'fake', 'fake', 'fake', 'fake', 'fake', 'fake', 'fake', 'fake', 'fake', 'fake', 'fake', 'fake', 'fake', 'fake', 'fake', 'fake', 'fake', 'fake', 'fake', 'fake', 'fake', 'fake', 'fake', 'fake', 'real?', 'real?', 'real?', 'real?', 'real?', 'real?', 'real?', 'real?', 'real?', 'real?', 'real?', 'real?', 'real?', 'real?', 'real?', 'real?', 'real?', 'real?', 'real?', 'real?', 'real?', 'real?', 'real?', 'real?', 'real?', 'real?', 'real?']\n",
      "[1, 2, 3, 'real?', 'fake', 'real?', 'fake', 'real?', 'fake', 'real?', 'fake', 'fake', 'fake', 'fake', 'fake', 'fake', 'fake', 'fake', 'fake', 'fake', 'fake', 'fake', 'fake', 'fake', 'fake', 'fake', 'fake', 'fake', 'fake', 'fake', 'fake', 'fake', 'fake', 'fake', 'fake', 'fake', 'fake', 'fake', 'fake', 'real?', 'real?', 'real?', 'real?', 'real?', 'real?', 'real?', 'real?', 'real?', 'real?', 'real?', 'real?', 'real?', 'real?', 'real?', 'real?', 'real?', 'real?', 'real?', 'real?', 'real?', 'real?', 'real?', 'real?', 'real?', 'real?', 'real?', 'real?']\n",
      "[1, 2, 3, 'real?', 'fake', 'real?', 'fake', 'real?', 'fake', 'real?', 'fake', 'fake', 'fake', 'fake', 'fake', 'fake', 'fake', 'fake', 'fake', 'fake', 'fake', 'fake', 'fake', 'fake', 'fake', 'fake', 'fake', 'fake', 'fake', 'fake', 'fake', 'fake', 'fake', 'fake', 'fake', 'fake', 'fake', 'fake', 'fake', 'fake', 'real?', 'real?', 'real?', 'real?', 'real?', 'real?', 'real?', 'real?', 'real?', 'real?', 'real?', 'real?', 'real?', 'real?', 'real?', 'real?', 'real?', 'real?', 'real?', 'real?', 'real?', 'real?', 'real?', 'real?', 'real?', 'real?', 'real?', 'real?', 'real?']\n",
      "[1, 2, 3, 'real?', 'fake', 'real?', 'fake', 'real?', 'fake', 'real?', 'fake', 'fake', 'fake', 'fake', 'fake', 'fake', 'fake', 'fake', 'fake', 'fake', 'fake', 'fake', 'fake', 'fake', 'fake', 'fake', 'fake', 'fake', 'fake', 'fake', 'fake', 'fake', 'fake', 'fake', 'fake', 'fake', 'fake', 'fake', 'fake', 'fake', 'fake', 'real?', 'real?', 'real?', 'real?', 'real?', 'real?', 'real?', 'real?', 'real?', 'real?', 'real?', 'real?', 'real?', 'real?', 'real?', 'real?', 'real?', 'real?', 'real?', 'real?', 'real?', 'real?', 'real?', 'real?', 'real?', 'real?', 'real?', 'real?', 'real?', 'real?']\n",
      "[1, 2, 3, 'real?', 'fake', 'real?', 'fake', 'real?', 'fake', 'real?', 'fake', 'fake', 'fake', 'fake', 'fake', 'fake', 'fake', 'fake', 'fake', 'fake', 'fake', 'fake', 'fake', 'fake', 'fake', 'fake', 'fake', 'fake', 'fake', 'fake', 'fake', 'fake', 'fake', 'fake', 'fake', 'fake', 'fake', 'fake', 'fake', 'fake', 'fake', 'fake', 'real?', 'real?', 'real?', 'real?', 'real?', 'real?', 'real?', 'real?', 'real?', 'real?', 'real?', 'real?', 'real?', 'real?', 'real?', 'real?', 'real?', 'real?', 'real?', 'real?', 'real?', 'real?', 'real?', 'real?', 'real?', 'real?', 'real?', 'real?', 'real?', 'real?', 'real?']\n",
      "[1, 2, 3, 'real?', 'fake', 'real?', 'fake', 'real?', 'fake', 'real?', 'fake', 'fake', 'fake', 'fake', 'fake', 'fake', 'fake', 'fake', 'fake', 'fake', 'fake', 'fake', 'fake', 'fake', 'fake', 'fake', 'fake', 'fake', 'fake', 'fake', 'fake', 'fake', 'fake', 'fake', 'fake', 'fake', 'fake', 'fake', 'fake', 'fake', 'fake', 'fake', 'fake', 'real?', 'real?', 'real?', 'real?', 'real?', 'real?', 'real?', 'real?', 'real?', 'real?', 'real?', 'real?', 'real?', 'real?', 'real?', 'real?', 'real?', 'real?', 'real?', 'real?', 'real?', 'real?', 'real?', 'real?', 'real?', 'real?', 'real?', 'real?', 'real?', 'real?', 'real?', 'real?']\n",
      "[1, 2, 3, 'real?', 'fake', 'real?', 'fake', 'real?', 'fake', 'real?', 'fake', 'fake', 'fake', 'fake', 'fake', 'fake', 'fake', 'fake', 'fake', 'fake', 'fake', 'fake', 'fake', 'fake', 'fake', 'fake', 'fake', 'fake', 'fake', 'fake', 'fake', 'fake', 'fake', 'fake', 'fake', 'fake', 'fake', 'fake', 'fake', 'fake', 'fake', 'fake', 'fake', 'fake', 'real?', 'real?', 'real?', 'real?', 'real?', 'real?', 'real?', 'real?', 'real?', 'real?', 'real?', 'real?', 'real?', 'real?', 'real?', 'real?', 'real?', 'real?', 'real?', 'real?', 'real?', 'real?', 'real?', 'real?', 'real?', 'real?', 'real?', 'real?', 'real?', 'real?', 'real?', 'real?', 'real?']\n",
      "[1, 2, 3, 'real?', 'fake', 'real?', 'fake', 'real?', 'fake', 'real?', 'fake', 'fake', 'fake', 'fake', 'fake', 'fake', 'fake', 'fake', 'fake', 'fake', 'fake', 'fake', 'fake', 'fake', 'fake', 'fake', 'fake', 'fake', 'fake', 'fake', 'fake', 'fake', 'fake', 'fake', 'fake', 'fake', 'fake', 'fake', 'fake', 'fake', 'fake', 'fake', 'fake', 'fake', 'fake', 'real?', 'real?', 'real?', 'real?', 'real?', 'real?', 'real?', 'real?', 'real?', 'real?', 'real?', 'real?', 'real?', 'real?', 'real?', 'real?', 'real?', 'real?', 'real?', 'real?', 'real?', 'real?', 'real?', 'real?', 'real?', 'real?', 'real?', 'real?', 'real?', 'real?', 'real?', 'real?', 'real?', 'real?']\n",
      "[1, 2, 3, 'real?', 'fake', 'real?', 'fake', 'real?', 'fake', 'real?', 'fake', 'fake', 'fake', 'fake', 'fake', 'fake', 'fake', 'fake', 'fake', 'fake', 'fake', 'fake', 'fake', 'fake', 'fake', 'fake', 'fake', 'fake', 'fake', 'fake', 'fake', 'fake', 'fake', 'fake', 'fake', 'fake', 'fake', 'fake', 'fake', 'fake', 'fake', 'fake', 'fake', 'fake', 'fake', 'fake', 'real?', 'real?', 'real?', 'real?', 'real?', 'real?', 'real?', 'real?', 'real?', 'real?', 'real?', 'real?', 'real?', 'real?', 'real?', 'real?', 'real?', 'real?', 'real?', 'real?', 'real?', 'real?', 'real?', 'real?', 'real?', 'real?', 'real?', 'real?', 'real?', 'real?', 'real?', 'real?', 'real?', 'real?', 'real?']\n",
      "[1, 2, 3, 'real?', 'fake', 'real?', 'fake', 'real?', 'fake', 'real?', 'fake', 'fake', 'fake', 'fake', 'fake', 'fake', 'fake', 'fake', 'fake', 'fake', 'fake', 'fake', 'fake', 'fake', 'fake', 'fake', 'fake', 'fake', 'fake', 'fake', 'fake', 'fake', 'fake', 'fake', 'fake', 'fake', 'fake', 'fake', 'fake', 'fake', 'fake', 'fake', 'fake', 'fake', 'fake', 'fake', 'fake', 'real?', 'real?', 'real?', 'real?', 'real?', 'real?', 'real?', 'real?', 'real?', 'real?', 'real?', 'real?', 'real?', 'real?', 'real?', 'real?', 'real?', 'real?', 'real?', 'real?', 'real?', 'real?', 'real?', 'real?', 'real?', 'real?', 'real?', 'real?', 'real?', 'real?', 'real?', 'real?', 'real?', 'real?', 'real?', 'real?']\n",
      "[1, 2, 3, 'real?', 'fake', 'real?', 'fake', 'real?', 'fake', 'real?', 'fake', 'fake', 'fake', 'fake', 'fake', 'fake', 'fake', 'fake', 'fake', 'fake', 'fake', 'fake', 'fake', 'fake', 'fake', 'fake', 'fake', 'fake', 'fake', 'fake', 'fake', 'fake', 'fake', 'fake', 'fake', 'fake', 'fake', 'fake', 'fake', 'fake', 'fake', 'fake', 'fake', 'fake', 'fake', 'fake', 'fake', 'fake', 'real?', 'real?', 'real?', 'real?', 'real?', 'real?', 'real?', 'real?', 'real?', 'real?', 'real?', 'real?', 'real?', 'real?', 'real?', 'real?', 'real?', 'real?', 'real?', 'real?', 'real?', 'real?', 'real?', 'real?', 'real?', 'real?', 'real?', 'real?', 'real?', 'real?', 'real?', 'real?', 'real?', 'real?', 'real?', 'real?', 'real?']\n",
      "[1, 2, 3, 'real?', 'fake', 'real?', 'fake', 'real?', 'fake', 'real?', 'fake', 'fake', 'fake', 'fake', 'fake', 'fake', 'fake', 'fake', 'fake', 'fake', 'fake', 'fake', 'fake', 'fake', 'fake', 'fake', 'fake', 'fake', 'fake', 'fake', 'fake', 'fake', 'fake', 'fake', 'fake', 'fake', 'fake', 'fake', 'fake', 'fake', 'fake', 'fake', 'fake', 'fake', 'fake', 'fake', 'fake', 'fake', 'fake', 'real?', 'real?', 'real?', 'real?', 'real?', 'real?', 'real?', 'real?', 'real?', 'real?', 'real?', 'real?', 'real?', 'real?', 'real?', 'real?', 'real?', 'real?', 'real?', 'real?', 'real?', 'real?', 'real?', 'real?', 'real?', 'real?', 'real?', 'real?', 'real?', 'real?', 'real?', 'real?', 'real?', 'real?', 'real?', 'real?', 'real?', 'real?']\n",
      "[1, 2, 3, 'real?', 'fake', 'real?', 'fake', 'real?', 'fake', 'real?', 'fake', 'fake', 'fake', 'fake', 'fake', 'fake', 'fake', 'fake', 'fake', 'fake', 'fake', 'fake', 'fake', 'fake', 'fake', 'fake', 'fake', 'fake', 'fake', 'fake', 'fake', 'fake', 'fake', 'fake', 'fake', 'fake', 'fake', 'fake', 'fake', 'fake', 'fake', 'fake', 'fake', 'fake', 'fake', 'fake', 'fake', 'fake', 'fake', 'fake', 'real?', 'real?', 'real?', 'real?', 'real?', 'real?', 'real?', 'real?', 'real?', 'real?', 'real?', 'real?', 'real?', 'real?', 'real?', 'real?', 'real?', 'real?', 'real?', 'real?', 'real?', 'real?', 'real?', 'real?', 'real?', 'real?', 'real?', 'real?', 'real?', 'real?', 'real?', 'real?', 'real?', 'real?', 'real?', 'real?', 'real?', 'real?', 'real?']\n",
      "[1, 2, 3, 'real?', 'fake', 'real?', 'fake', 'real?', 'fake', 'real?', 'fake', 'fake', 'fake', 'fake', 'fake', 'fake', 'fake', 'fake', 'fake', 'fake', 'fake', 'fake', 'fake', 'fake', 'fake', 'fake', 'fake', 'fake', 'fake', 'fake', 'fake', 'fake', 'fake', 'fake', 'fake', 'fake', 'fake', 'fake', 'fake', 'fake', 'fake', 'fake', 'fake', 'fake', 'fake', 'fake', 'fake', 'fake', 'fake', 'fake', 'fake', 'real?', 'real?', 'real?', 'real?', 'real?', 'real?', 'real?', 'real?', 'real?', 'real?', 'real?', 'real?', 'real?', 'real?', 'real?', 'real?', 'real?', 'real?', 'real?', 'real?', 'real?', 'real?', 'real?', 'real?', 'real?', 'real?', 'real?', 'real?', 'real?', 'real?', 'real?', 'real?', 'real?', 'real?', 'real?', 'real?', 'real?', 'real?', 'real?', 'real?']\n",
      "[1, 2, 3, 'real?', 'fake', 'real?', 'fake', 'real?', 'fake', 'real?', 'fake', 'fake', 'fake', 'fake', 'fake', 'fake', 'fake', 'fake', 'fake', 'fake', 'fake', 'fake', 'fake', 'fake', 'fake', 'fake', 'fake', 'fake', 'fake', 'fake', 'fake', 'fake', 'fake', 'fake', 'fake', 'fake', 'fake', 'fake', 'fake', 'fake', 'fake', 'fake', 'fake', 'fake', 'fake', 'fake', 'fake', 'fake', 'fake', 'fake', 'fake', 'fake', 'real?', 'real?', 'real?', 'real?', 'real?', 'real?', 'real?', 'real?', 'real?', 'real?', 'real?', 'real?', 'real?', 'real?', 'real?', 'real?', 'real?', 'real?', 'real?', 'real?', 'real?', 'real?', 'real?', 'real?', 'real?', 'real?', 'real?', 'real?', 'real?', 'real?', 'real?', 'real?', 'real?', 'real?', 'real?', 'real?', 'real?', 'real?', 'real?', 'real?', 'real?']\n",
      "[1, 2, 3, 'real?', 'fake', 'real?', 'fake', 'real?', 'fake', 'real?', 'fake', 'fake', 'fake', 'fake', 'fake', 'fake', 'fake', 'fake', 'fake', 'fake', 'fake', 'fake', 'fake', 'fake', 'fake', 'fake', 'fake', 'fake', 'fake', 'fake', 'fake', 'fake', 'fake', 'fake', 'fake', 'fake', 'fake', 'fake', 'fake', 'fake', 'fake', 'fake', 'fake', 'fake', 'fake', 'fake', 'fake', 'fake', 'fake', 'fake', 'fake', 'fake', 'fake', 'real?', 'real?', 'real?', 'real?', 'real?', 'real?', 'real?', 'real?', 'real?', 'real?', 'real?', 'real?', 'real?', 'real?', 'real?', 'real?', 'real?', 'real?', 'real?', 'real?', 'real?', 'real?', 'real?', 'real?', 'real?', 'real?', 'real?', 'real?', 'real?', 'real?', 'real?', 'real?', 'real?', 'real?', 'real?', 'real?', 'real?', 'real?', 'real?', 'real?', 'real?', 'real?']\n",
      "[1, 2, 3, 'real?', 'fake', 'real?', 'fake', 'real?', 'fake', 'real?', 'fake', 'fake', 'fake', 'fake', 'fake', 'fake', 'fake', 'fake', 'fake', 'fake', 'fake', 'fake', 'fake', 'fake', 'fake', 'fake', 'fake', 'fake', 'fake', 'fake', 'fake', 'fake', 'fake', 'fake', 'fake', 'fake', 'fake', 'fake', 'fake', 'fake', 'fake', 'fake', 'fake', 'fake', 'fake', 'fake', 'fake', 'fake', 'fake', 'fake', 'fake', 'fake', 'fake', 'fake', 'real?', 'real?', 'real?', 'real?', 'real?', 'real?', 'real?', 'real?', 'real?', 'real?', 'real?', 'real?', 'real?', 'real?', 'real?', 'real?', 'real?', 'real?', 'real?', 'real?', 'real?', 'real?', 'real?', 'real?', 'real?', 'real?', 'real?', 'real?', 'real?', 'real?', 'real?', 'real?', 'real?', 'real?', 'real?', 'real?', 'real?', 'real?', 'real?', 'real?', 'real?', 'real?', 'real?']\n",
      "[1, 2, 3, 'real?', 'fake', 'real?', 'fake', 'real?', 'fake', 'real?', 'fake', 'fake', 'fake', 'fake', 'fake', 'fake', 'fake', 'fake', 'fake', 'fake', 'fake', 'fake', 'fake', 'fake', 'fake', 'fake', 'fake', 'fake', 'fake', 'fake', 'fake', 'fake', 'fake', 'fake', 'fake', 'fake', 'fake', 'fake', 'fake', 'fake', 'fake', 'fake', 'fake', 'fake', 'fake', 'fake', 'fake', 'fake', 'fake', 'fake', 'fake', 'fake', 'fake', 'fake', 'fake', 'real?', 'real?', 'real?', 'real?', 'real?', 'real?', 'real?', 'real?', 'real?', 'real?', 'real?', 'real?', 'real?', 'real?', 'real?', 'real?', 'real?', 'real?', 'real?', 'real?', 'real?', 'real?', 'real?', 'real?', 'real?', 'real?', 'real?', 'real?', 'real?', 'real?', 'real?', 'real?', 'real?', 'real?', 'real?', 'real?', 'real?', 'real?', 'real?', 'real?', 'real?', 'real?', 'real?', 'real?']\n",
      "[1, 2, 3, 'real?', 'fake', 'real?', 'fake', 'real?', 'fake', 'real?', 'fake', 'fake', 'fake', 'fake', 'fake', 'fake', 'fake', 'fake', 'fake', 'fake', 'fake', 'fake', 'fake', 'fake', 'fake', 'fake', 'fake', 'fake', 'fake', 'fake', 'fake', 'fake', 'fake', 'fake', 'fake', 'fake', 'fake', 'fake', 'fake', 'fake', 'fake', 'fake', 'fake', 'fake', 'fake', 'fake', 'fake', 'fake', 'fake', 'fake', 'fake', 'fake', 'fake', 'fake', 'fake', 'fake', 'real?', 'real?', 'real?', 'real?', 'real?', 'real?', 'real?', 'real?', 'real?', 'real?', 'real?', 'real?', 'real?', 'real?', 'real?', 'real?', 'real?', 'real?', 'real?', 'real?', 'real?', 'real?', 'real?', 'real?', 'real?', 'real?', 'real?', 'real?', 'real?', 'real?', 'real?', 'real?', 'real?', 'real?', 'real?', 'real?', 'real?', 'real?', 'real?', 'real?', 'real?', 'real?', 'real?', 'real?', 'real?']\n",
      "[1, 2, 3, 'real?', 'fake', 'real?', 'fake', 'real?', 'fake', 'real?', 'fake', 'fake', 'fake', 'fake', 'fake', 'fake', 'fake', 'fake', 'fake', 'fake', 'fake', 'fake', 'fake', 'fake', 'fake', 'fake', 'fake', 'fake', 'fake', 'fake', 'fake', 'fake', 'fake', 'fake', 'fake', 'fake', 'fake', 'fake', 'fake', 'fake', 'fake', 'fake', 'fake', 'fake', 'fake', 'fake', 'fake', 'fake', 'fake', 'fake', 'fake', 'fake', 'fake', 'fake', 'fake', 'fake', 'fake', 'real?', 'real?', 'real?', 'real?', 'real?', 'real?', 'real?', 'real?', 'real?', 'real?', 'real?', 'real?', 'real?', 'real?', 'real?', 'real?', 'real?', 'real?', 'real?', 'real?', 'real?', 'real?', 'real?', 'real?', 'real?', 'real?', 'real?', 'real?', 'real?', 'real?', 'real?', 'real?', 'real?', 'real?', 'real?', 'real?', 'real?', 'real?', 'real?', 'real?', 'real?', 'real?', 'real?', 'real?', 'real?', 'real?']\n",
      "[1, 'fake', 'real?', 'fake', 'real?', 'fake', 'real?', 'fake', 'fake', 'fake', 'fake', 'fake', 'fake', 'fake', 'fake', 'fake', 'fake', 'fake', 'fake', 'fake', 'fake', 'fake', 'fake', 'fake', 'fake', 'fake', 'fake', 'fake', 'fake', 'fake', 'fake', 'fake', 'fake', 'fake', 'fake', 'fake', 'fake', 'fake', 'fake', 'fake', 'fake', 'fake', 'fake', 'fake', 'fake', 'fake', 'fake', 'fake', 'fake', 'fake', 'fake', 'fake', 'fake', 'fake', 'real?', 'real?', 'real?', 'real?', 'real?', 'real?', 'real?', 'real?', 'real?', 'real?', 'real?', 'real?', 'real?', 'real?', 'real?', 'real?', 'real?', 'real?', 'real?', 'real?', 'real?', 'real?', 'real?', 'real?', 'real?', 'real?', 'real?', 'real?', 'real?', 'real?', 'real?', 'real?', 'real?', 'real?', 'real?', 'real?', 'real?', 'real?', 'real?', 'real?', 'real?', 'real?', 'real?', 'real?', 'real?', 'real?']\n"
     ]
    },
    {
     "ename": "TypeError",
     "evalue": "'<' not supported between instances of 'str' and 'int'",
     "output_type": "error",
     "traceback": [
      "\u001b[1;31m---------------------------------------------------------------------------\u001b[0m",
      "\u001b[1;31mTypeError\u001b[0m                                 Traceback (most recent call last)",
      "\u001b[1;32m<ipython-input-61-9719bd999cf8>\u001b[0m in \u001b[0;36m<module>\u001b[1;34m\u001b[0m\n\u001b[0;32m     17\u001b[0m         \u001b[1;32mbreak\u001b[0m\u001b[1;33m\u001b[0m\u001b[1;33m\u001b[0m\u001b[0m\n\u001b[0;32m     18\u001b[0m \u001b[1;33m\u001b[0m\u001b[0m\n\u001b[1;32m---> 19\u001b[1;33m \u001b[0mfriends\u001b[0m\u001b[1;33m.\u001b[0m\u001b[0msort\u001b[0m\u001b[1;33m(\u001b[0m\u001b[1;33m)\u001b[0m\u001b[1;33m\u001b[0m\u001b[1;33m\u001b[0m\u001b[0m\n\u001b[0m\u001b[0;32m     20\u001b[0m \u001b[0mprint\u001b[0m\u001b[1;33m(\u001b[0m\u001b[0mrealfriends\u001b[0m\u001b[1;33m)\u001b[0m\u001b[1;33m\u001b[0m\u001b[1;33m\u001b[0m\u001b[0m\n",
      "\u001b[1;31mTypeError\u001b[0m: '<' not supported between instances of 'str' and 'int'"
     ]
    }
   ],
   "source": [
    "#Bonus: A code poem that will not run\n",
    "\n",
    "friends = [1, 2, 3]\n",
    "\n",
    "growing_up_events = 100\n",
    "\n",
    "while growing_up_events <= 150:\n",
    "    friends.append(\"real?\")\n",
    "    friends.insert(10,\"fake\")\n",
    "    growing_up_events += 1\n",
    "    print(friends)\n",
    "    if growing_up_events == 150:\n",
    "        friends.pop(1)\n",
    "        friends.pop(1)\n",
    "        friends.pop(1)\n",
    "        print(friends)\n",
    "        break\n",
    "        \n",
    "friends.sort()\n",
    "print(realfriends)\n"
   ]
  },
  {
   "cell_type": "code",
   "execution_count": null,
   "metadata": {},
   "outputs": [],
   "source": []
  }
 ],
 "metadata": {
  "kernelspec": {
   "display_name": "Python 3",
   "language": "python",
   "name": "python3"
  },
  "language_info": {
   "codemirror_mode": {
    "name": "ipython",
    "version": 3
   },
   "file_extension": ".py",
   "mimetype": "text/x-python",
   "name": "python",
   "nbconvert_exporter": "python",
   "pygments_lexer": "ipython3",
   "version": "3.8.5"
  }
 },
 "nbformat": 4,
 "nbformat_minor": 4
}
