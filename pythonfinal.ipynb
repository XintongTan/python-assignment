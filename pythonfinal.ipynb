{
 "cells": [
  {
   "cell_type": "code",
   "execution_count": 1,
   "metadata": {},
   "outputs": [],
   "source": [
    "# code modified from JRussellHuffman obtained from https://github.com/JRussellHuffman/joy_vazirani\n",
    "\n",
    "from qiskit import QuantumCircuit, execute, Aer, IBMQ\n",
    "from qiskit.compiler import transpile, assemble\n",
    "from qiskit.tools.jupyter import *\n",
    "from qiskit.visualization import *\n",
    "\n",
    "provider = IBMQ.enable_account('my API token')\n",
    "backend = provider.get_backend('ibmq_qasm_simulator')"
   ]
  },
  {
   "cell_type": "code",
   "execution_count": 2,
   "metadata": {},
   "outputs": [],
   "source": [
    "import matplotlib.pyplot as plt\n",
    "import numpy as np\n",
    "\n",
    "# importing Qiskit\n",
    "from qiskit import IBMQ, BasicAer\n",
    "from qiskit.providers.ibmq import *\n",
    "from qiskit import QuantumCircuit, ClassicalRegister, QuantumRegister, execute\n",
    "\n",
    "from qiskit.visualization import plot_histogram"
   ]
  },
  {
   "cell_type": "code",
   "execution_count": 19,
   "metadata": {},
   "outputs": [],
   "source": [
    "n=4"
   ]
  },
  {
   "cell_type": "code",
   "execution_count": 20,
   "metadata": {},
   "outputs": [],
   "source": [
    "def wordToBV(s) :\n",
    "    #convert text to binary\n",
    "    a_byte_array = bytearray(s, \"utf8\")\n",
    "    byte_list = []\n",
    "\n",
    "\n",
    "    for byte in a_byte_array:\n",
    "        binary_representation = bin(byte)\n",
    "        byte_list.append(binary_representation[6-n:])\n",
    "        #chop off the \"0b\" at the beginning. can also truncate the binary to fit on a device with N qubits\n",
    "        #binary has 2 extra digits for \"0b\", so it starts at 9 for our 7 bit operation. \n",
    "\n",
    "    print(byte_list)\n",
    "    \n",
    "    circuit_array = []\n",
    "    \n",
    "    length = len(byte_list) \n",
    "    \n",
    "    for i in range(length):\n",
    "    \n",
    "        s = byte_list[i]\n",
    "\n",
    "\n",
    "        #do all  this stuff for every letter\n",
    "\n",
    "        # We need a circuit with n qubits, plus one ancilla qubit\n",
    "        # Also need n classical bits to write the output to\n",
    "        bv_circuit = QuantumCircuit(n+1, n)\n",
    "\n",
    "        # put ancilla in state |->\n",
    "        bv_circuit.h(n)\n",
    "        bv_circuit.z(n)\n",
    "\n",
    "        # Apply Hadamard gates before querying the oracle\n",
    "        for i in range(n):\n",
    "            bv_circuit.h(i)\n",
    "\n",
    "        # Apply barrier \n",
    "        bv_circuit.barrier()\n",
    "\n",
    "        # Apply the inner-product oracle\n",
    "        s = s[::-1] # reverse s to fit qiskit's qubit ordering\n",
    "        for q in range(n):\n",
    "            if s[q] == '0':\n",
    "                bv_circuit.i(q)\n",
    "            else:\n",
    "                bv_circuit.cx(q, n)\n",
    "\n",
    "        # Apply barrier \n",
    "        bv_circuit.barrier()\n",
    "\n",
    "        #Apply Hadamard gates after querying the oracle\n",
    "        for i in range(n):\n",
    "            bv_circuit.h(i)\n",
    "\n",
    "        # Measurement\n",
    "        for i in range(n):\n",
    "            bv_circuit.measure(i, i)\n",
    "            \n",
    "        circuit_array.append(bv_circuit)\n",
    "\n",
    "    \n",
    "    return circuit_array"
   ]
  },
  {
   "cell_type": "code",
   "execution_count": 27,
   "metadata": {},
   "outputs": [
    {
     "name": "stdout",
     "output_type": "stream",
     "text": [
      "['1100011', '1110010', '1111001', '1110011', '1110100', '1100001', '1101100']\n"
     ]
    }
   ],
   "source": [
    "circuit_to_run = wordToBV('crystal')"
   ]
  },
  {
   "cell_type": "code",
   "execution_count": 28,
   "metadata": {},
   "outputs": [
    {
     "data": {
      "image/png": "[encoded data removed]",
      "text/plain": [
       "<Figure size 504x360 with 1 Axes>"
      ]
     },
     "execution_count": 28,
     "metadata": {},
     "output_type": "execute_result"
    }
   ],
   "source": [
    "#test\n",
    "backend = provider.get_backend('ibmq_qasm_simulator')\n",
    "shots = 4096\n",
    "results = execute(circuit_to_run[0], backend=backend, shots=shots).result()\n",
    "answer = results.get_counts()\n",
    "\n",
    "plot_histogram(answer)"
   ]
  },
  {
   "cell_type": "code",
   "execution_count": 35,
   "metadata": {},
   "outputs": [
    {
     "name": "stdout",
     "output_type": "stream",
     "text": [
      "hardcoded to run on  ibmq_lima\n",
      "Job Status: job has successfully run\n"
     ]
    },
    {
     "data": {
      "image/png": "[encoded data removed]",
      "text/plain": [
       "<Figure size 504x360 with 1 Axes>"
      ]
     },
     "execution_count": 35,
     "metadata": {},
     "output_type": "execute_result"
    }
   ],
   "source": [
    "# run in real quantum computer\n",
    "\n",
    "device = provider.get_backend('ibmq_lima')\n",
    "print(\"hardcoded to run on \", device)\n",
    "\n",
    "\n",
    "from qiskit.tools.monitor import job_monitor\n",
    "job = execute(circuit_to_run[6], backend=device, shots=1024, max_credits=10)\n",
    "job_monitor(job, interval = 2)\n",
    "\n",
    "results = job.result()\n",
    "answer = results.get_counts(circuit_to_run[6])\n",
    "plot_histogram(answer)"
   ]
  },
  {
   "cell_type": "code",
   "execution_count": 117,
   "metadata": {},
   "outputs": [
    {
     "name": "stdout",
     "output_type": "stream",
     "text": [
      "{'0000': 18, '0010': 1, '0100': 25, '0110': 4, '0111': 4, '1000': 142, '1001': 8, '1010': 17, '1011': 8, '1100': 646, '1101': 51, '1110': 75, '1111': 25}\n"
     ]
    }
   ],
   "source": [
    "print(answer)"
   ]
  },
  {
   "cell_type": "code",
   "execution_count": 124,
   "metadata": {},
   "outputs": [
    {
     "data": {
      "text/plain": [
       "qiskit.result.counts.Counts"
      ]
     },
     "execution_count": 124,
     "metadata": {},
     "output_type": "execute_result"
    }
   ],
   "source": [
    "type(answer)"
   ]
  },
  {
   "cell_type": "code",
   "execution_count": 59,
   "metadata": {},
   "outputs": [],
   "source": [
    "import sys"
   ]
  },
  {
   "cell_type": "code",
   "execution_count": 80,
   "metadata": {},
   "outputs": [],
   "source": [
    "import matplotlib.pyplot as plt\n",
    "import numpy as np\n",
    "import PIL.Image as Image\n",
    "import scipy.misc as misc"
   ]
  },
  {
   "cell_type": "code",
   "execution_count": 86,
   "metadata": {},
   "outputs": [],
   "source": [
    "def load_img(filename):\n",
    "    img = Image.open(filename)\n",
    "    data = np.array(img)\n",
    "    return data"
   ]
  },
  {
   "cell_type": "code",
   "execution_count": 87,
   "metadata": {},
   "outputs": [],
   "source": [
    "def all_pixels(row, col, square_h, square_w):\n",
    "\n",
    "    for y in range(int(round(row*square_h)), int(round((row+1)*square_h))):\n",
    "        for x in range(int(round(col*square_w)), int(round((col+1)*square_w))):\n",
    "            yield y, x"
   ]
  },
  {
   "cell_type": "code",
   "execution_count": 88,
   "metadata": {},
   "outputs": [],
   "source": [
    "def square(img, row, col, square_h, square_w):\n",
    "    \n",
    "    pixels = []\n",
    "    \n",
    "    for y, x in all_pixels(row, col, square_h, square_w):\n",
    "        pixels.append(img[y][x])\n",
    "        \n",
    "    av_r = 0\n",
    "    av_g = 0\n",
    "    av_b = 0\n",
    "    for r, g, b in pixels:\n",
    "        av_r += r\n",
    "        av_g += g\n",
    "        av_b += b\n",
    "    av_r /= len(pixels)\n",
    "    av_g /= len(pixels)\n",
    "    av_b /= len(pixels)\n",
    "        \n",
    "        \n",
    "    for y, x in all_pixels(row, col, square_h, square_w):\n",
    "        img[y][x] = (av_r, av_g, av_b)\n",
    "            \n",
    "    img[][]"
   ]
  },
  {
   "cell_type": "code",
   "execution_count": 115,
   "metadata": {},
   "outputs": [],
   "source": [
    "if __name__ == \"__main__\":\n",
    "    try:\n",
    "        filename = sys.argv[1]\n",
    "    except IndexError:\n",
    "        filename = raw_input(\"image1.jpg\")\n",
    "    img = load_img('image1.jpg')\n",
    "    \n",
    "    num_cols = 8\n",
    "    square_w = float(img.shape[1]) / num_cols\n",
    "    num_rows = 14\n",
    "    square_h = float(img.shape[0]) / num_rows\n",
    "    \n",
    "    for row in range(num_rows):\n",
    "        for col in range(num_cols):\n",
    "            square(img, row, col, square_h, square_w)"
   ]
  },
  {
   "cell_type": "code",
   "execution_count": 116,
   "metadata": {},
   "outputs": [
    {
     "data": {
      "image/png": "[encoded data removed]",
      "text/plain": [
       "<Figure size 432x288 with 1 Axes>"
      ]
     },
     "metadata": {
      "needs_background": "light"
     },
     "output_type": "display_data"
    }
   ],
   "source": [
    "    plt.axis('off')\n",
    "    plt.imshow(img)\n",
    "    plt.show()\n",
    "    "
   ]
  },
  {
   "cell_type": "code",
   "execution_count": 107,
   "metadata": {},
   "outputs": [
    {
     "data": {
      "text/plain": [
       "(71, 70, 3)"
      ]
     },
     "execution_count": 107,
     "metadata": {},
     "output_type": "execute_result"
    }
   ],
   "source": []
  },
  {
   "cell_type": "code",
   "execution_count": null,
   "metadata": {},
   "outputs": [],
   "source": []
  },
  {
   "cell_type": "code",
   "execution_count": null,
   "metadata": {},
   "outputs": [],
   "source": []
  }
 ],
 "metadata": {
  "kernelspec": {
   "display_name": "Python 3",
   "language": "python",
   "name": "python3"
  },
  "language_info": {
   "codemirror_mode": {
    "name": "ipython",
    "version": 3
   },
   "file_extension": ".py",
   "mimetype": "text/x-python",
   "name": "python",
   "nbconvert_exporter": "python",
   "pygments_lexer": "ipython3",
   "version": "3.8.5"
  }
 },
 "nbformat": 4,
 "nbformat_minor": 4
}
